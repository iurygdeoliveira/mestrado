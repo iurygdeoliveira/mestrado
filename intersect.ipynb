{
 "cells": [
  {
   "cell_type": "markdown",
   "metadata": {},
   "source": [
    "# Intersection points between paths"
   ]
  },
  {
   "cell_type": "code",
   "execution_count": 13,
   "metadata": {},
   "outputs": [
    {
     "name": "stdout",
     "output_type": "stream",
     "text": [
      "(0.000000 t + 0.000000 u + 0.000000 v + 0.000000 w + 0.000000 x) m (0.000000 t + 0.000000 u + 0.000000 v + 0.000000 w + 0.000000 x) m\n",
      "(0.020000 t + 0.000000 u + 0.000000 v + 0.000000 w + 0.000000 x) m (0.010000 t + 0.000000 u + 0.000000 v + 0.000000 w + 0.000000 x) m\n"
     ]
    }
   ],
   "source": [
    "import gpxpy\n",
    "import gpxpy.gpx\n",
    "from datetime import datetime\n",
    "from gpx_converter import Converter\n",
    "from pytz import timezone\n",
    "import folium\n",
    "from branca.element import Figure\n",
    "import os\n",
    "import haversine as hs\n",
    "import pandas as pd\n",
    "import numpy as np\n",
    "import matplotlib.pyplot as plt\n",
    "plt.rcParams['axes.spines.top'] = False\n",
    "plt.rcParams['axes.spines.right'] = False\n",
    "from pyx import *\n"
   ]
  },
  {
   "cell_type": "code",
   "execution_count": 5,
   "metadata": {},
   "outputs": [
    {
     "data": {
      "text/html": [
       "<div>\n",
       "<style scoped>\n",
       "    .dataframe tbody tr th:only-of-type {\n",
       "        vertical-align: middle;\n",
       "    }\n",
       "\n",
       "    .dataframe tbody tr th {\n",
       "        vertical-align: top;\n",
       "    }\n",
       "\n",
       "    .dataframe thead th {\n",
       "        text-align: right;\n",
       "    }\n",
       "</style>\n",
       "<table border=\"1\" class=\"dataframe\">\n",
       "  <thead>\n",
       "    <tr style=\"text-align: right;\">\n",
       "      <th></th>\n",
       "      <th>time</th>\n",
       "      <th>latitude</th>\n",
       "      <th>longitude</th>\n",
       "      <th>altitude</th>\n",
       "    </tr>\n",
       "  </thead>\n",
       "  <tbody>\n",
       "    <tr>\n",
       "      <th>0</th>\n",
       "      <td>2014-07-23 06:33:30+00:00</td>\n",
       "      <td>46.078243</td>\n",
       "      <td>14.826053</td>\n",
       "      <td>268.2</td>\n",
       "    </tr>\n",
       "    <tr>\n",
       "      <th>1</th>\n",
       "      <td>2014-07-23 06:33:31+00:00</td>\n",
       "      <td>46.078274</td>\n",
       "      <td>14.826082</td>\n",
       "      <td>268.2</td>\n",
       "    </tr>\n",
       "    <tr>\n",
       "      <th>2</th>\n",
       "      <td>2014-07-23 06:33:32+00:00</td>\n",
       "      <td>46.078312</td>\n",
       "      <td>14.826119</td>\n",
       "      <td>268.2</td>\n",
       "    </tr>\n",
       "    <tr>\n",
       "      <th>3</th>\n",
       "      <td>2014-07-23 06:33:33+00:00</td>\n",
       "      <td>46.078353</td>\n",
       "      <td>14.826162</td>\n",
       "      <td>268.2</td>\n",
       "    </tr>\n",
       "    <tr>\n",
       "      <th>4</th>\n",
       "      <td>2014-07-23 06:33:34+00:00</td>\n",
       "      <td>46.078404</td>\n",
       "      <td>14.826207</td>\n",
       "      <td>268.2</td>\n",
       "    </tr>\n",
       "  </tbody>\n",
       "</table>\n",
       "</div>"
      ],
      "text/plain": [
       "                       time   latitude  longitude  altitude\n",
       "0 2014-07-23 06:33:30+00:00  46.078243  14.826053     268.2\n",
       "1 2014-07-23 06:33:31+00:00  46.078274  14.826082     268.2\n",
       "2 2014-07-23 06:33:32+00:00  46.078312  14.826119     268.2\n",
       "3 2014-07-23 06:33:33+00:00  46.078353  14.826162     268.2\n",
       "4 2014-07-23 06:33:34+00:00  46.078404  14.826207     268.2"
      ]
     },
     "execution_count": 5,
     "metadata": {},
     "output_type": "execute_result"
    }
   ],
   "source": [
    "df=Converter(input_file='./app/src/datasets/dataset1/Rider1/2.gpx').gpx_to_dataframe()\n",
    "df.head()"
   ]
  },
  {
   "cell_type": "code",
   "execution_count": 6,
   "metadata": {},
   "outputs": [
    {
     "data": {
      "text/html": [
       "<div>\n",
       "<style scoped>\n",
       "    .dataframe tbody tr th:only-of-type {\n",
       "        vertical-align: middle;\n",
       "    }\n",
       "\n",
       "    .dataframe tbody tr th {\n",
       "        vertical-align: top;\n",
       "    }\n",
       "\n",
       "    .dataframe thead th {\n",
       "        text-align: right;\n",
       "    }\n",
       "</style>\n",
       "<table border=\"1\" class=\"dataframe\">\n",
       "  <thead>\n",
       "    <tr style=\"text-align: right;\">\n",
       "      <th></th>\n",
       "      <th>time</th>\n",
       "      <th>latitude</th>\n",
       "      <th>longitude</th>\n",
       "      <th>altitude</th>\n",
       "    </tr>\n",
       "  </thead>\n",
       "  <tbody>\n",
       "    <tr>\n",
       "      <th>0</th>\n",
       "      <td>2013-12-27 11:37:37+00:00</td>\n",
       "      <td>46.078320</td>\n",
       "      <td>14.825556</td>\n",
       "      <td>243.0</td>\n",
       "    </tr>\n",
       "    <tr>\n",
       "      <th>1</th>\n",
       "      <td>2013-12-27 11:37:43+00:00</td>\n",
       "      <td>46.078292</td>\n",
       "      <td>14.825836</td>\n",
       "      <td>244.2</td>\n",
       "    </tr>\n",
       "    <tr>\n",
       "      <th>2</th>\n",
       "      <td>2013-12-27 11:37:44+00:00</td>\n",
       "      <td>46.078279</td>\n",
       "      <td>14.825860</td>\n",
       "      <td>244.2</td>\n",
       "    </tr>\n",
       "    <tr>\n",
       "      <th>3</th>\n",
       "      <td>2013-12-27 11:37:45+00:00</td>\n",
       "      <td>46.078260</td>\n",
       "      <td>14.825880</td>\n",
       "      <td>244.2</td>\n",
       "    </tr>\n",
       "    <tr>\n",
       "      <th>4</th>\n",
       "      <td>2013-12-27 11:37:46+00:00</td>\n",
       "      <td>46.078235</td>\n",
       "      <td>14.825885</td>\n",
       "      <td>244.2</td>\n",
       "    </tr>\n",
       "  </tbody>\n",
       "</table>\n",
       "</div>"
      ],
      "text/plain": [
       "                       time   latitude  longitude  altitude\n",
       "0 2013-12-27 11:37:37+00:00  46.078320  14.825556     243.0\n",
       "1 2013-12-27 11:37:43+00:00  46.078292  14.825836     244.2\n",
       "2 2013-12-27 11:37:44+00:00  46.078279  14.825860     244.2\n",
       "3 2013-12-27 11:37:45+00:00  46.078260  14.825880     244.2\n",
       "4 2013-12-27 11:37:46+00:00  46.078235  14.825885     244.2"
      ]
     },
     "execution_count": 6,
     "metadata": {},
     "output_type": "execute_result"
    }
   ],
   "source": [
    "df2=Converter(input_file='./app/src/datasets/dataset1/Rider1/4.gpx').gpx_to_dataframe()\n",
    "df2.head()"
   ]
  },
  {
   "cell_type": "code",
   "execution_count": null,
   "metadata": {},
   "outputs": [],
   "source": []
  }
 ],
 "metadata": {
  "kernelspec": {
   "display_name": "Python 3",
   "language": "python",
   "name": "python3"
  },
  "language_info": {
   "codemirror_mode": {
    "name": "ipython",
    "version": 3
   },
   "file_extension": ".py",
   "mimetype": "text/x-python",
   "name": "python",
   "nbconvert_exporter": "python",
   "pygments_lexer": "ipython3",
   "version": "3.8.8"
  }
 },
 "nbformat": 4,
 "nbformat_minor": 2
}
